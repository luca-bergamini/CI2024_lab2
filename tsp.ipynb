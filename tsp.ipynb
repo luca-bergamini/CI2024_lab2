{
 "cells": [
  {
   "cell_type": "code",
   "execution_count": 73,
   "metadata": {},
   "outputs": [],
   "source": [
    "import logging\n",
    "from itertools import combinations\n",
    "import pandas as pd\n",
    "import numpy as np\n",
    "from geopy.distance import geodesic\n",
    "import random\n",
    "from tqdm.auto import tqdm\n",
    "import math\n",
    "\n",
    "logging.basicConfig(level=logging.DEBUG)"
   ]
  },
  {
   "cell_type": "code",
   "execution_count": 74,
   "metadata": {},
   "outputs": [],
   "source": [
    "def load_data(city):\n",
    "    global CITIES, DIST_MATRIX\n",
    "    CITIES = pd.read_csv(f'cities/{city}.csv', header=None, names=['name', 'lat', 'lon']) # contains all cities with its lat and lon\n",
    "    DIST_MATRIX = np.zeros((len(CITIES), len(CITIES))) # quadratice matrix of distances between cities, initialized with all zeros\n",
    "    for c1, c2 in combinations(CITIES.itertuples(), 2): # for each pair of cities\n",
    "        DIST_MATRIX[c1.Index, c2.Index] = DIST_MATRIX[c2.Index, c1.Index] = geodesic(\n",
    "            (c1.lat, c1.lon), (c2.lat, c2.lon)\n",
    "        ).km # compute the distance between lat and lon\n",
    "    # CITIES.head() # print the first five rows"
   ]
  },
  {
   "cell_type": "code",
   "execution_count": 75,
   "metadata": {},
   "outputs": [],
   "source": [
    "def tsp_cost(tsp):\n",
    "    assert tsp[0] == tsp[-1] # check if the start city is equal to the end one\n",
    "    assert set(tsp) == set(range(len(CITIES))) # check if the tsp include all the cities almost one time\n",
    "\n",
    "    tot_cost = 0\n",
    "    for c1, c2 in zip(tsp, tsp[1:]): # for each pair of cities\n",
    "        tot_cost += DIST_MATRIX[c1, c2] # compute the total cost as the total cost plus the distance between the two cities\n",
    "    return tot_cost"
   ]
  },
  {
   "cell_type": "code",
   "execution_count": 76,
   "metadata": {},
   "outputs": [],
   "source": [
    "MAX_GENERATIONS = 5_000\n",
    "POPULATION_SIZE = 10\n",
    "RATE = .5 # used for Order Crossover\n",
    "MUT_RATE = .1 # used for mutation"
   ]
  },
  {
   "cell_type": "markdown",
   "metadata": {},
   "source": [
    "### Greedy Algorithm"
   ]
  },
  {
   "cell_type": "code",
   "execution_count": 77,
   "metadata": {},
   "outputs": [],
   "source": [
    "def greedy_algorithm():\n",
    "    visited = np.full(len(CITIES), False)\n",
    "    dist = DIST_MATRIX.copy()\n",
    "    city = 0\n",
    "    visited[city] = True\n",
    "    tsp = list()\n",
    "    tsp.append(int(city))\n",
    "    while not np.all(visited):\n",
    "        dist[:, city] = np.inf\n",
    "        closest = np.argmin(dist[city])\n",
    "        visited[closest] = True\n",
    "        city = closest\n",
    "        tsp.append(int(city))\n",
    "    tsp.append(tsp[0])\n",
    "\n",
    "    logging.info(f\"result Greedy Algorithm: Found a path of {len(tsp)-1} steps, total length {tsp_cost(tsp):.2f}km\")\n",
    "    return tsp"
   ]
  },
  {
   "cell_type": "markdown",
   "metadata": {},
   "source": [
    "### Utility Functions"
   ]
  },
  {
   "cell_type": "code",
   "execution_count": 78,
   "metadata": {},
   "outputs": [],
   "source": [
    "def xover(p1, p2):\n",
    "    assert len(p1) == len(p2)\n",
    "    child = np.full(len(p1), -1) # creating a child with all -1 inside of len p1\n",
    "    start, end = sorted(random.sample(range(1, len(p1)), 2)) # selecting two rand indexes to copy elements from p1\n",
    "    \n",
    "    child[start:end] = p1[start:end] # copying the elements from p1 to the child\n",
    "    c_pos = (end + 1) % len(p1) # updating the c_pos as end + 1, if end+1 = len(p1) then c_pos = 0\n",
    "    \n",
    "    for city in p2:\n",
    "        if city not in child:\n",
    "            if c_pos == start:\n",
    "                c_pos = (c_pos + (end - start)) % len(p1)\n",
    "            child[c_pos] = city\n",
    "            c_pos = (c_pos + 1) % len(p1)\n",
    "            \n",
    "    # there is a -1 in the child due to the fact that a city cannot compare two times in child\n",
    "    if -1 in child:\n",
    "        child[child == -1] = child[0] # change elem=-1 to child[0] (the start city)\n",
    "                \n",
    "    i = len(child) - 1 - np.where(child[::-1] == child[0])[0][0] # finding the index of the last occurency of the first city\n",
    "\n",
    "    if i != len(child) - 1:  # if the element is not in the last position move it\n",
    "        e = child[i]\n",
    "        child = np.delete(child, i)  # remove the element\n",
    "        child = np.append(child, e)  # add the element at the end\n",
    "    \n",
    "    return child\n",
    "\n",
    "def mutation(tsp):\n",
    "    x = 0\n",
    "    while x < MUT_RATE:\n",
    "        i, j = random.sample(range(1, len(tsp) - 1), 2) # finding two indexes, don't taking the first and the last\n",
    "        tsp[i], tsp[j] = tsp[j], tsp[i]\n",
    "        x = random.random()\n",
    "    return tsp\n",
    "\n",
    "def inver_over_xover(tsp, population, rate = RATE):\n",
    "    tsp_c = tsp.copy()\n",
    "    for i in range(1, len(tsp_c) - 1):\n",
    "        if random.random() < rate:\n",
    "            target = tsp_c[i]\n",
    "            if random.random() < .5:\n",
    "                # select another city from the tsp\n",
    "                other_t = random.choice(tsp_c[1:-1])\n",
    "            else:\n",
    "                # select another city from the population\n",
    "                rand_tsp = random.choice(population)\n",
    "                while True:\n",
    "                    other_t = random.choice(rand_tsp[1:-1])\n",
    "                    # take the city only if it is different from the first city in tsp\n",
    "                    if other_t != tsp_c[0]:\n",
    "                        break\n",
    "            # finding indexes of the cities\n",
    "            i_target = np.where(tsp_c == target)[0][0]\n",
    "            i_other = np.where(tsp_c == other_t)[0][0]\n",
    "            # swapping path between the two cities\n",
    "            if i_target < i_other:\n",
    "                tsp_c[i_target:i_other+1] = list(reversed(tsp_c[i_target:i_other+1]))\n",
    "            else:\n",
    "                tsp_c[i_other:i_target+1] = list(reversed(tsp_c[i_other:i_target+1]))\n",
    "    return tsp_c\n",
    "\n",
    "def compute_total_dist(tsp):\n",
    "    # computing the total distance of the tsp, between the cities\n",
    "    return sum(DIST_MATRIX[tsp[i], tsp[i+1]] for i in range(len(DIST_MATRIX) - 1)) + DIST_MATRIX[tsp[-1], tsp[0]]"
   ]
  },
  {
   "cell_type": "markdown",
   "metadata": {},
   "source": [
    "### Evolutionary Algorithm - Inverse Crossover"
   ]
  },
  {
   "cell_type": "code",
   "execution_count": 79,
   "metadata": {},
   "outputs": [],
   "source": [
    "def EA_ioc(tsp):\n",
    "    population = [tsp]\n",
    "    for _ in range(100):\n",
    "        path = np.random.permutation(len(tsp) - 1).tolist()\n",
    "        path.append(path[0])\n",
    "        population.append(path)\n",
    "        \n",
    "    for _ in tqdm(range(MAX_GENERATIONS)):\n",
    "        population.sort(key=tsp_cost)\n",
    "        new_pop = population[:POPULATION_SIZE]\n",
    "        \n",
    "        while len(new_pop) < len(population):\n",
    "            p1, p2 = random.sample(new_pop, 2)\n",
    "            child = xover(p1, p2)\n",
    "            child = inver_over_xover(child, population, rate = RATE)\n",
    "            new_pop.append(child)\n",
    "            \n",
    "        population = new_pop\n",
    "\n",
    "    min_tsp = min(population, key=tsp_cost)\n",
    "    logging.info(f\"result Evolutionary Algorithm - Inverse Crossover: Found a path of {len(min_tsp)-1} steps, total length {tsp_cost(min_tsp):.2f}km\")"
   ]
  },
  {
   "cell_type": "markdown",
   "metadata": {},
   "source": [
    "### Evolutionary Algorithm - Order Crossover"
   ]
  },
  {
   "cell_type": "code",
   "execution_count": 80,
   "metadata": {},
   "outputs": [],
   "source": [
    "def EA_oc(tsp):\n",
    "    population = [tsp]\n",
    "    for _ in range(100):\n",
    "        path = np.random.permutation(len(tsp) - 1).tolist()\n",
    "        path.append(path[0])\n",
    "        population.append(path)\n",
    "        \n",
    "    for _ in tqdm(range(MAX_GENERATIONS)):\n",
    "        population.sort(key=tsp_cost)\n",
    "        new_pop = population[:POPULATION_SIZE]\n",
    "        \n",
    "        while len(new_pop) < len(population):\n",
    "            p1, p2 = random.sample(new_pop, 2)\n",
    "            child = xover(p1, p2)\n",
    "            \n",
    "            if np.random.random() < RATE:\n",
    "                child = mutation(child)\n",
    "            new_pop.append(child)\n",
    "            \n",
    "        population = new_pop\n",
    "\n",
    "    min_tsp = min(population, key=tsp_cost)\n",
    "    logging.info(f\"result Evolutionary Algorithm - Order Crossover: Found a path of {len(min_tsp)-1} steps, total length {tsp_cost(min_tsp):.2f}km\")\n"
   ]
  },
  {
   "cell_type": "markdown",
   "metadata": {},
   "source": [
    "### Simulated Annealing"
   ]
  },
  {
   "cell_type": "code",
   "execution_count": 81,
   "metadata": {},
   "outputs": [],
   "source": [
    "def simulated_annealing(temperature = 100, cooling_factor = .99):\n",
    "    # starting with a random path\n",
    "    path = list(range(len(CITIES)))\n",
    "    random.shuffle(path)\n",
    "    c_dist = compute_total_dist(path)\n",
    "    best_dist = c_dist\n",
    "    best_path = path\n",
    "\n",
    "    while temperature > .01:\n",
    "        for _ in range(MAX_GENERATIONS):\n",
    "            new_path = path.copy()\n",
    "            i, j = sorted(random.sample(range(len(CITIES)), 2))\n",
    "            new_path[i:j+1] = reversed(path[i:j+1])\n",
    "            new_dist = compute_total_dist(new_path)\n",
    "            # computing the ratio to accept the new path\n",
    "            dist_ratio = new_dist - c_dist\n",
    "\n",
    "            if dist_ratio < 0 or random.random() < math.exp(-dist_ratio / temperature): # low dist or high temperature means to accept a worse path\n",
    "                path = new_path\n",
    "                c_dist = new_dist\n",
    "                if c_dist < best_dist:\n",
    "                    best_dist = c_dist\n",
    "                    best_path = path\n",
    "        # updating the temperature using the cooling factor\n",
    "        temperature *= cooling_factor\n",
    "\n",
    "    # return the best path adding the first city at the end\n",
    "    tsp = best_path + [best_path[0]]\n",
    "    logging.info(f\"result Simulated Annealing: Found a path of {len(tsp)-1} steps, total length {tsp_cost(tsp):.2f}km\")"
   ]
  },
  {
   "cell_type": "code",
   "execution_count": null,
   "metadata": {},
   "outputs": [],
   "source": [
    "cities = ['italy', 'russia', 'vanuatu', 'china', 'us']\n",
    "for city in cities:\n",
    "    logging.info(f\"Running algorithms for {city}\")\n",
    "    # loading all the data\n",
    "    load_data(city)\n",
    "    # --------------------- Running Algorithms ---------------------\n",
    "    tsp = greedy_algorithm()\n",
    "    EA_ioc(tsp)\n",
    "    EA_oc(tsp)\n",
    "    simulated_annealing()"
   ]
  }
 ],
 "metadata": {
  "kernelspec": {
   "display_name": "ci-ZPHlJo2x-py3.11",
   "language": "python",
   "name": "python3"
  },
  "language_info": {
   "codemirror_mode": {
    "name": "ipython",
    "version": 3
   },
   "file_extension": ".py",
   "mimetype": "text/x-python",
   "name": "python",
   "nbconvert_exporter": "python",
   "pygments_lexer": "ipython3",
   "version": "3.11.7"
  }
 },
 "nbformat": 4,
 "nbformat_minor": 2
}
